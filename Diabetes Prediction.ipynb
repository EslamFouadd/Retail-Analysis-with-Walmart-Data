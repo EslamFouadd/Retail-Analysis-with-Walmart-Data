{
  "metadata": {
    "kernelspec": {
      "language": "python",
      "display_name": "Python 3",
      "name": "python3"
    },
    "language_info": {
      "pygments_lexer": "ipython3",
      "nbconvert_exporter": "python",
      "version": "3.6.4",
      "file_extension": ".py",
      "codemirror_mode": {
        "name": "ipython",
        "version": 3
      },
      "name": "python",
      "mimetype": "text/x-python"
    },
    "colab": {
      "provenance": [],
      "include_colab_link": true
    }
  },
  "nbformat_minor": 0,
  "nbformat": 4,
  "cells": [
    {
      "cell_type": "markdown",
      "metadata": {
        "id": "view-in-github",
        "colab_type": "text"
      },
      "source": [
        "<a href=\"https://colab.research.google.com/github/EslamFouadd/Retail-Analysis-with-Walmart-Data/blob/main/Diabetes%20Prediction.ipynb\" target=\"_parent\"><img src=\"https://colab.research.google.com/assets/colab-badge.svg\" alt=\"Open In Colab\"/></a>"
      ]
    },
    {
      "cell_type": "markdown",
      "source": [
        "# Diabetes Prediction using Machine Learning\n",
        "\n",
        "Diabetes, is a group of metabolic disorders in which there are high blood sugar levels over a prolonged period. Symptoms of high blood sugar include frequent urination, increased thirst, and increased hunger. If left untreated, diabetes can cause many complications. Acute complications can include diabetic ketoacidosis, hyperosmolar hyperglycemic state, or death. Serious long-term complications include cardiovascular disease, stroke, chronic kidney disease, foot ulcers, and damage to the eyes.\n",
        "\n",
        "This dataset is originally from the National Institute of Diabetes and Digestive and Kidney Diseases. The objective of the dataset is to diagnostically predict whether or not a patient has diabetes, based on certain diagnostic measurements included in the dataset. Several constraints were placed on the selection of these instances from a larger database. In particular, all patients here are females at least 21 years old of Pima Indian heritage.\n",
        "\n",
        "## Objective\n",
        "We will try to build a machine learning model to accurately predict whether or not the patients in the dataset have diabetes or not?\n",
        "\n",
        "## **Details about the dataset:**\n",
        "\n",
        "The datasets consists of several medical predictor variables and one target variable, Outcome. Predictor variables includes the number of pregnancies the patient has had, their BMI, insulin level, age, and so on.\n",
        "\n",
        "- **Pregnancies**: Number of times pregnant\n",
        "- **Glucose**: Plasma glucose concentration a 2 hours in an oral glucose tolerance test\n",
        "- **BloodPressure**: Diastolic blood pressure (mm Hg)\n",
        "- **SkinThickness**: Triceps skin fold thickness (mm)\n",
        "- **Insulin**: 2-Hour serum insulin (mu U/ml)\n",
        "- **BMI**: Body mass index (weight in kg/(height in m)^2)\n",
        "- **DiabetesPedigreeFunction**: Diabetes pedigree function\n",
        "- **Age**: Age (years)\n",
        "- **Outcome**: Class variable (0 or 1)\n",
        "\n",
        "**Number of Observation Units: 768**\n",
        "\n",
        "**Variable Number: 9**\n",
        "\n",
        "**Result; The model created as a result of XGBoost hyperparameter optimization became the model with the lowest Cross Validation Score value. (0.90)**"
      ],
      "metadata": {
        "id": "bt-JDowED9rB"
      }
    },
    {
      "cell_type": "markdown",
      "source": [
        "# 1) Exploratory Data Analysis"
      ],
      "metadata": {
        "id": "oUoVfINHD9rK"
      }
    },
    {
      "cell_type": "code",
      "source": [
        "#Installation of required libraries\n",
        "import numpy as np\n",
        "import pandas as pd \n",
        "import statsmodels.api as sm\n",
        "import seaborn as sns\n",
        "import matplotlib.pyplot as plt\n",
        "from sklearn.preprocessing import scale, StandardScaler\n",
        "from sklearn.model_selection import train_test_split, GridSearchCV, cross_val_score\n",
        "from sklearn.metrics import confusion_matrix, accuracy_score, mean_squared_error, r2_score, roc_auc_score, roc_curve, classification_report\n",
        "from sklearn.linear_model import LogisticRegression\n",
        "from sklearn.neighbors import KNeighborsClassifier\n",
        "from sklearn.svm import SVC\n",
        "from sklearn.neural_network import MLPClassifier\n",
        "from sklearn.tree import DecisionTreeClassifier\n",
        "from sklearn.ensemble import RandomForestClassifier\n",
        "from sklearn.ensemble import GradientBoostingClassifier\n",
        "from lightgbm import LGBMClassifier\n",
        "from sklearn.model_selection import KFold\n",
        "import warnings\n",
        "warnings.simplefilter(action = \"ignore\") "
      ],
      "metadata": {
        "_uuid": "d629ff2d2480ee46fbb7e2d37f6b5fab8052498a",
        "_cell_guid": "79c7e3d0-c299-4dcb-8224-4455121ee9b0",
        "trusted": true,
        "id": "pdvZiKdED9rL"
      },
      "execution_count": null,
      "outputs": []
    },
    {
      "cell_type": "code",
      "source": [
        "#Reading the dataset\n",
        "df = pd.read_csv(\"../input/pima-indians-diabetes-database/diabetes.csv\")"
      ],
      "metadata": {
        "trusted": true,
        "id": "VuKF-XUmD9rO"
      },
      "execution_count": null,
      "outputs": []
    },
    {
      "cell_type": "code",
      "source": [
        "# The first 5 observation units of the data set were accessed.\n",
        "df.head()"
      ],
      "metadata": {
        "trusted": true,
        "id": "eFQNuvnyD9rP"
      },
      "execution_count": null,
      "outputs": []
    },
    {
      "cell_type": "code",
      "source": [
        "# The size of the data set was examined. It consists of 768 observation units and 9 variables.\n",
        "df.shape"
      ],
      "metadata": {
        "trusted": true,
        "id": "HfUWic-2D9rP"
      },
      "execution_count": null,
      "outputs": []
    },
    {
      "cell_type": "code",
      "source": [
        "#Feature information\n",
        "df.info()"
      ],
      "metadata": {
        "trusted": true,
        "id": "LC_MG_JjD9rQ"
      },
      "execution_count": null,
      "outputs": []
    },
    {
      "cell_type": "code",
      "source": [
        "# Descriptive statistics of the data set accessed.\n",
        "df.describe([0.10,0.25,0.50,0.75,0.90,0.95,0.99]).T"
      ],
      "metadata": {
        "trusted": true,
        "id": "IuQwtIFZD9rR"
      },
      "execution_count": null,
      "outputs": []
    },
    {
      "cell_type": "code",
      "source": [
        "# The distribution of the Outcome variable was examined.\n",
        "df[\"Outcome\"].value_counts()*100/len(df)"
      ],
      "metadata": {
        "trusted": true,
        "id": "IfOm63fqD9rS"
      },
      "execution_count": null,
      "outputs": []
    },
    {
      "cell_type": "code",
      "source": [
        "# The classes of the outcome variable were examined.\n",
        "df.Outcome.value_counts()"
      ],
      "metadata": {
        "trusted": true,
        "id": "1U6sZSuoD9rT"
      },
      "execution_count": null,
      "outputs": []
    },
    {
      "cell_type": "code",
      "source": [
        "# The histagram of the Age variable was reached.\n",
        "df[\"Age\"].hist(edgecolor = \"black\");"
      ],
      "metadata": {
        "trusted": true,
        "id": "9VBnfFJUD9rU"
      },
      "execution_count": null,
      "outputs": []
    },
    {
      "cell_type": "code",
      "source": [
        "print(\"Max Age: \" + str(df[\"Age\"].max()) + \" Min Age: \" + str(df[\"Age\"].min()))"
      ],
      "metadata": {
        "trusted": true,
        "id": "RCzEhgu5D9rU"
      },
      "execution_count": null,
      "outputs": []
    },
    {
      "cell_type": "code",
      "source": [
        "# Histogram and density graphs of all variables were accessed.\n",
        "fig, ax = plt.subplots(4,2, figsize=(16,16))\n",
        "sns.distplot(df.Age, bins = 20, ax=ax[0,0]) \n",
        "sns.distplot(df.Pregnancies, bins = 20, ax=ax[0,1]) \n",
        "sns.distplot(df.Glucose, bins = 20, ax=ax[1,0]) \n",
        "sns.distplot(df.BloodPressure, bins = 20, ax=ax[1,1]) \n",
        "sns.distplot(df.SkinThickness, bins = 20, ax=ax[2,0])\n",
        "sns.distplot(df.Insulin, bins = 20, ax=ax[2,1])\n",
        "sns.distplot(df.DiabetesPedigreeFunction, bins = 20, ax=ax[3,0]) \n",
        "sns.distplot(df.BMI, bins = 20, ax=ax[3,1]) "
      ],
      "metadata": {
        "trusted": true,
        "id": "sJ2zUDrZD9rV"
      },
      "execution_count": null,
      "outputs": []
    },
    {
      "cell_type": "code",
      "source": [
        "df.groupby(\"Outcome\").agg({\"Pregnancies\":\"mean\"})"
      ],
      "metadata": {
        "trusted": true,
        "id": "r-YTuF6bD9rW"
      },
      "execution_count": null,
      "outputs": []
    },
    {
      "cell_type": "code",
      "source": [
        "df.groupby(\"Outcome\").agg({\"Age\":\"mean\"})"
      ],
      "metadata": {
        "trusted": true,
        "id": "WNDG3TJlD9rW"
      },
      "execution_count": null,
      "outputs": []
    },
    {
      "cell_type": "code",
      "source": [
        "df.groupby(\"Outcome\").agg({\"Age\":\"max\"})"
      ],
      "metadata": {
        "trusted": true,
        "id": "CYHzwy7-D9rX"
      },
      "execution_count": null,
      "outputs": []
    },
    {
      "cell_type": "code",
      "source": [
        "df.groupby(\"Outcome\").agg({\"Insulin\": \"mean\"})"
      ],
      "metadata": {
        "trusted": true,
        "id": "d_HZGF9TD9rX"
      },
      "execution_count": null,
      "outputs": []
    },
    {
      "cell_type": "code",
      "source": [
        "df.groupby(\"Outcome\").agg({\"Insulin\": \"max\"})"
      ],
      "metadata": {
        "trusted": true,
        "id": "4TJVexFpD9rY"
      },
      "execution_count": null,
      "outputs": []
    },
    {
      "cell_type": "code",
      "source": [
        "df.groupby(\"Outcome\").agg({\"Glucose\": \"mean\"})"
      ],
      "metadata": {
        "trusted": true,
        "id": "AxI-oW_wD9rY"
      },
      "execution_count": null,
      "outputs": []
    },
    {
      "cell_type": "code",
      "source": [
        "df.groupby(\"Outcome\").agg({\"Glucose\": \"max\"})"
      ],
      "metadata": {
        "trusted": true,
        "id": "oETUWlx7D9rZ"
      },
      "execution_count": null,
      "outputs": []
    },
    {
      "cell_type": "code",
      "source": [
        "df.groupby(\"Outcome\").agg({\"BMI\": \"mean\"})"
      ],
      "metadata": {
        "trusted": true,
        "id": "gAF28GTKD9rZ"
      },
      "execution_count": null,
      "outputs": []
    },
    {
      "cell_type": "code",
      "source": [
        "# The distribution of the outcome variable in the data was examined and visualized.\n",
        "f,ax=plt.subplots(1,2,figsize=(18,8))\n",
        "df['Outcome'].value_counts().plot.pie(explode=[0,0.1],autopct='%1.1f%%',ax=ax[0],shadow=True)\n",
        "ax[0].set_title('target')\n",
        "ax[0].set_ylabel('')\n",
        "sns.countplot('Outcome',data=df,ax=ax[1])\n",
        "ax[1].set_title('Outcome')\n",
        "plt.show()"
      ],
      "metadata": {
        "trusted": true,
        "id": "9B8lng8RD9ra"
      },
      "execution_count": null,
      "outputs": []
    },
    {
      "cell_type": "code",
      "source": [
        "# Access to the correlation of the data set was provided. What kind of relationship is examined between the variables. \n",
        "# If the correlation value is> 0, there is a positive correlation. While the value of one variable increases, the value of the other variable also increases.\n",
        "# Correlation = 0 means no correlation.\n",
        "# If the correlation is <0, there is a negative correlation. While one variable increases, the other variable decreases. \n",
        "# When the correlations are examined, there are 2 variables that act as a positive correlation to the Salary dependent variable.\n",
        "# These variables are Glucose. As these increase, Outcome variable increases.\n",
        "df.corr()"
      ],
      "metadata": {
        "trusted": true,
        "id": "oqIP9wAQD9ra"
      },
      "execution_count": null,
      "outputs": []
    },
    {
      "cell_type": "code",
      "source": [
        "# Correlation matrix graph of the data set\n",
        "f, ax = plt.subplots(figsize= [20,15])\n",
        "sns.heatmap(df.corr(), annot=True, fmt=\".2f\", ax=ax, cmap = \"magma\" )\n",
        "ax.set_title(\"Correlation Matrix\", fontsize=20)\n",
        "plt.show()"
      ],
      "metadata": {
        "trusted": true,
        "id": "T6lLsr5gD9rb"
      },
      "execution_count": null,
      "outputs": []
    },
    {
      "cell_type": "markdown",
      "source": [
        "# 2) Data Preprocessing"
      ],
      "metadata": {
        "id": "ETCHroveD9rb"
      }
    },
    {
      "cell_type": "markdown",
      "source": [
        "## 2.1) Missing Observation Analysis\n",
        "\n",
        "We saw on df.head() that some features contain 0, it doesn't make sense here and this indicates missing value Below we replace 0 value by NaN:"
      ],
      "metadata": {
        "id": "XM96fIPUD9rb"
      }
    },
    {
      "cell_type": "code",
      "source": [
        "df[['Glucose','BloodPressure','SkinThickness','Insulin','BMI']] = df[['Glucose','BloodPressure','SkinThickness','Insulin','BMI']].replace(0,np.NaN)"
      ],
      "metadata": {
        "trusted": true,
        "id": "c9K22rMED9rc"
      },
      "execution_count": null,
      "outputs": []
    },
    {
      "cell_type": "code",
      "source": [
        "df.head()"
      ],
      "metadata": {
        "trusted": true,
        "id": "3VqDWdiWD9rc"
      },
      "execution_count": null,
      "outputs": []
    },
    {
      "cell_type": "code",
      "source": [
        "# Now, we can look at where are missing values\n",
        "df.isnull().sum()"
      ],
      "metadata": {
        "trusted": true,
        "id": "Sdt_rWkDD9rd"
      },
      "execution_count": null,
      "outputs": []
    },
    {
      "cell_type": "code",
      "source": [
        "# Have been visualized using the missingno library for the visualization of missing observations.\n",
        "# Plotting \n",
        "import missingno as msno\n",
        "msno.bar(df);"
      ],
      "metadata": {
        "trusted": true,
        "id": "-rY1TnEWD9rd"
      },
      "execution_count": null,
      "outputs": []
    },
    {
      "cell_type": "code",
      "source": [
        "# The missing values ​​will be filled with the median values ​​of each variable.\n",
        "def median_target(var):   \n",
        "    temp = df[df[var].notnull()]\n",
        "    temp = temp[[var, 'Outcome']].groupby(['Outcome'])[[var]].median().reset_index()\n",
        "    return temp"
      ],
      "metadata": {
        "trusted": true,
        "id": "Qlh8a7B7D9rd"
      },
      "execution_count": null,
      "outputs": []
    },
    {
      "cell_type": "code",
      "source": [
        "# The values to be given for incomplete observations are given the median value of people who are not sick and the median values of people who are sick.\n",
        "columns = df.columns\n",
        "columns = columns.drop(\"Outcome\")\n",
        "for i in columns:\n",
        "    median_target(i)\n",
        "    df.loc[(df['Outcome'] == 0 ) & (df[i].isnull()), i] = median_target(i)[i][0]\n",
        "    df.loc[(df['Outcome'] == 1 ) & (df[i].isnull()), i] = median_target(i)[i][1]"
      ],
      "metadata": {
        "trusted": true,
        "id": "Nq-rctlSD9re"
      },
      "execution_count": null,
      "outputs": []
    },
    {
      "cell_type": "code",
      "source": [
        "df.head()"
      ],
      "metadata": {
        "trusted": true,
        "id": "1SwyTWfaD9re"
      },
      "execution_count": null,
      "outputs": []
    },
    {
      "cell_type": "code",
      "source": [
        "# Missing values were filled.\n",
        "df.isnull().sum()"
      ],
      "metadata": {
        "trusted": true,
        "id": "dumr002cD9rf"
      },
      "execution_count": null,
      "outputs": []
    },
    {
      "cell_type": "markdown",
      "source": [
        "## 2.2) Outlier Observation Analysis"
      ],
      "metadata": {
        "id": "1RxfF1JHD9rf"
      }
    },
    {
      "cell_type": "code",
      "source": [
        "# In the data set, there were asked whether there were any outlier observations compared to the 25% and 75% quarters.\n",
        "# It was found to be an outlier observation.\n",
        "for feature in df:\n",
        "    \n",
        "    Q1 = df[feature].quantile(0.25)\n",
        "    Q3 = df[feature].quantile(0.75)\n",
        "    IQR = Q3-Q1\n",
        "    lower = Q1- 1.5*IQR\n",
        "    upper = Q3 + 1.5*IQR\n",
        "    \n",
        "    if df[(df[feature] > upper)].any(axis=None):\n",
        "        print(feature,\"yes\")\n",
        "    else:\n",
        "        print(feature, \"no\")"
      ],
      "metadata": {
        "trusted": true,
        "id": "Pd3OVy4FD9rf"
      },
      "execution_count": null,
      "outputs": []
    },
    {
      "cell_type": "code",
      "source": [
        "# The process of visualizing the Insulin variable with boxplot method was done. We find the outlier observations on the chart.\n",
        "import seaborn as sns\n",
        "sns.boxplot(x = df[\"Insulin\"]);"
      ],
      "metadata": {
        "trusted": true,
        "id": "tF_kWMdhD9rg"
      },
      "execution_count": null,
      "outputs": []
    },
    {
      "cell_type": "code",
      "source": [
        "#We conduct a stand alone observation review for the Insulin variable\n",
        "#We suppress contradictory values\n",
        "Q1 = df.Insulin.quantile(0.25)\n",
        "Q3 = df.Insulin.quantile(0.75)\n",
        "IQR = Q3-Q1\n",
        "lower = Q1 - 1.5*IQR\n",
        "upper = Q3 + 1.5*IQR\n",
        "df.loc[df[\"Insulin\"] > upper,\"Insulin\"] = upper"
      ],
      "metadata": {
        "trusted": true,
        "id": "T1-RAMhdD9rg"
      },
      "execution_count": null,
      "outputs": []
    },
    {
      "cell_type": "code",
      "source": [
        "import seaborn as sns\n",
        "sns.boxplot(x = df[\"Insulin\"]);"
      ],
      "metadata": {
        "trusted": true,
        "id": "_oTzOOcuD9rg"
      },
      "execution_count": null,
      "outputs": []
    },
    {
      "cell_type": "markdown",
      "source": [
        "## 2.3)  Local Outlier Factor (LOF)"
      ],
      "metadata": {
        "id": "9xTd0IBuD9rh"
      }
    },
    {
      "cell_type": "code",
      "source": [
        "# We determine outliers between all variables with the LOF method\n",
        "from sklearn.neighbors import LocalOutlierFactor\n",
        "lof =LocalOutlierFactor(n_neighbors= 10)\n",
        "lof.fit_predict(df)"
      ],
      "metadata": {
        "trusted": true,
        "id": "u-l-gypvD9rh"
      },
      "execution_count": null,
      "outputs": []
    },
    {
      "cell_type": "code",
      "source": [
        "df_scores = lof.negative_outlier_factor_\n",
        "np.sort(df_scores)[0:30]"
      ],
      "metadata": {
        "trusted": true,
        "id": "m7rhawzlD9rh"
      },
      "execution_count": null,
      "outputs": []
    },
    {
      "cell_type": "code",
      "source": [
        "#We choose the threshold value according to lof scores\n",
        "threshold = np.sort(df_scores)[7]\n",
        "threshold"
      ],
      "metadata": {
        "trusted": true,
        "id": "nA5RSpoFD9ri"
      },
      "execution_count": null,
      "outputs": []
    },
    {
      "cell_type": "code",
      "source": [
        "#We delete those that are higher than the threshold\n",
        "outlier = df_scores > threshold\n",
        "df = df[outlier]"
      ],
      "metadata": {
        "trusted": true,
        "id": "QgAzrrAOD9ri"
      },
      "execution_count": null,
      "outputs": []
    },
    {
      "cell_type": "code",
      "source": [
        "# The size of the data set was examined.\n",
        "df.shape"
      ],
      "metadata": {
        "trusted": true,
        "id": "c-HxplOMD9ri"
      },
      "execution_count": null,
      "outputs": []
    },
    {
      "cell_type": "markdown",
      "source": [
        "# 3) Feature Engineering\n",
        "\n",
        "Creating new variables is important for models. But you need to create a logical new variable. For this data set, some new variables were created according to BMI, Insulin and glucose variables."
      ],
      "metadata": {
        "id": "9VK3MFqVD9rj"
      }
    },
    {
      "cell_type": "code",
      "source": [
        "# According to BMI, some ranges were determined and categorical variables were assigned.\n",
        "NewBMI = pd.Series([\"Underweight\", \"Normal\", \"Overweight\", \"Obesity 1\", \"Obesity 2\", \"Obesity 3\"], dtype = \"category\")\n",
        "df[\"NewBMI\"] = NewBMI\n",
        "df.loc[df[\"BMI\"] < 18.5, \"NewBMI\"] = NewBMI[0]\n",
        "df.loc[(df[\"BMI\"] > 18.5) & (df[\"BMI\"] <= 24.9), \"NewBMI\"] = NewBMI[1]\n",
        "df.loc[(df[\"BMI\"] > 24.9) & (df[\"BMI\"] <= 29.9), \"NewBMI\"] = NewBMI[2]\n",
        "df.loc[(df[\"BMI\"] > 29.9) & (df[\"BMI\"] <= 34.9), \"NewBMI\"] = NewBMI[3]\n",
        "df.loc[(df[\"BMI\"] > 34.9) & (df[\"BMI\"] <= 39.9), \"NewBMI\"] = NewBMI[4]\n",
        "df.loc[df[\"BMI\"] > 39.9 ,\"NewBMI\"] = NewBMI[5]"
      ],
      "metadata": {
        "trusted": true,
        "id": "oPyw__h_D9rj"
      },
      "execution_count": null,
      "outputs": []
    },
    {
      "cell_type": "code",
      "source": [
        "df.head()"
      ],
      "metadata": {
        "trusted": true,
        "id": "FyqhLKeoD9rj"
      },
      "execution_count": null,
      "outputs": []
    },
    {
      "cell_type": "code",
      "source": [
        "# A categorical variable creation process is performed according to the insulin value.\n",
        "def set_insulin(row):\n",
        "    if row[\"Insulin\"] >= 16 and row[\"Insulin\"] <= 166:\n",
        "        return \"Normal\"\n",
        "    else:\n",
        "        return \"Abnormal\""
      ],
      "metadata": {
        "trusted": true,
        "id": "t7BNPPp9D9rk"
      },
      "execution_count": null,
      "outputs": []
    },
    {
      "cell_type": "code",
      "source": [
        "# The operation performed was added to the dataframe.\n",
        "df = df.assign(NewInsulinScore=df.apply(set_insulin, axis=1))\n",
        "\n",
        "df.head()"
      ],
      "metadata": {
        "trusted": true,
        "id": "JE5l15xfD9rk"
      },
      "execution_count": null,
      "outputs": []
    },
    {
      "cell_type": "code",
      "source": [
        "# Some intervals were determined according to the glucose variable and these were assigned categorical variables.\n",
        "NewGlucose = pd.Series([\"Low\", \"Normal\", \"Overweight\", \"Secret\", \"High\"], dtype = \"category\")\n",
        "df[\"NewGlucose\"] = NewGlucose\n",
        "df.loc[df[\"Glucose\"] <= 70, \"NewGlucose\"] = NewGlucose[0]\n",
        "df.loc[(df[\"Glucose\"] > 70) & (df[\"Glucose\"] <= 99), \"NewGlucose\"] = NewGlucose[1]\n",
        "df.loc[(df[\"Glucose\"] > 99) & (df[\"Glucose\"] <= 126), \"NewGlucose\"] = NewGlucose[2]\n",
        "df.loc[df[\"Glucose\"] > 126 ,\"NewGlucose\"] = NewGlucose[3]"
      ],
      "metadata": {
        "trusted": true,
        "id": "nVSDGfBbD9rl"
      },
      "execution_count": null,
      "outputs": []
    },
    {
      "cell_type": "code",
      "source": [
        "df.head()"
      ],
      "metadata": {
        "trusted": true,
        "id": "1ev0SArTD9rl"
      },
      "execution_count": null,
      "outputs": []
    },
    {
      "cell_type": "markdown",
      "source": [
        "# 4) One Hot Encoding\n",
        "\n",
        "Categorical variables in the data set should be converted into numerical values. For this reason, these transformation processes are performed with Label Encoding and One Hot Encoding method."
      ],
      "metadata": {
        "id": "NqLLH6ACD9rl"
      }
    },
    {
      "cell_type": "code",
      "source": [
        "# Here, by making One Hot Encoding transformation, categorical variables were converted into numerical values. It is also protected from the Dummy variable trap.\n",
        "df = pd.get_dummies(df, columns =[\"NewBMI\",\"NewInsulinScore\", \"NewGlucose\"], drop_first = True)"
      ],
      "metadata": {
        "trusted": true,
        "id": "27rHqDNGD9rl"
      },
      "execution_count": null,
      "outputs": []
    },
    {
      "cell_type": "code",
      "source": [
        "df.head()"
      ],
      "metadata": {
        "trusted": true,
        "id": "TAW7urtTD9rm"
      },
      "execution_count": null,
      "outputs": []
    },
    {
      "cell_type": "code",
      "source": [
        "categorical_df = df[['NewBMI_Obesity 1','NewBMI_Obesity 2', 'NewBMI_Obesity 3', 'NewBMI_Overweight','NewBMI_Underweight',\n",
        "                     'NewInsulinScore_Normal','NewGlucose_Low','NewGlucose_Normal', 'NewGlucose_Overweight', 'NewGlucose_Secret']]"
      ],
      "metadata": {
        "trusted": true,
        "id": "_9_Ujj5yD9rm"
      },
      "execution_count": null,
      "outputs": []
    },
    {
      "cell_type": "code",
      "source": [
        "categorical_df.head()"
      ],
      "metadata": {
        "trusted": true,
        "id": "_vXQlr4uD9rn"
      },
      "execution_count": null,
      "outputs": []
    },
    {
      "cell_type": "code",
      "source": [
        "y = df[\"Outcome\"]\n",
        "X = df.drop([\"Outcome\",'NewBMI_Obesity 1','NewBMI_Obesity 2', 'NewBMI_Obesity 3', 'NewBMI_Overweight','NewBMI_Underweight',\n",
        "                     'NewInsulinScore_Normal','NewGlucose_Low','NewGlucose_Normal', 'NewGlucose_Overweight', 'NewGlucose_Secret'], axis = 1)\n",
        "cols = X.columns\n",
        "index = X.index"
      ],
      "metadata": {
        "trusted": true,
        "id": "g-xrB554D9ro"
      },
      "execution_count": null,
      "outputs": []
    },
    {
      "cell_type": "code",
      "source": [
        "X.head()"
      ],
      "metadata": {
        "trusted": true,
        "id": "WHLSwsY7D9ro"
      },
      "execution_count": null,
      "outputs": []
    },
    {
      "cell_type": "code",
      "source": [
        "# The variables in the data set are an effective factor in increasing the performance of the models by standardization.  \n",
        "# There are multiple standardization methods. These are methods such as\" Normalize\",\" MinMax\",\" Robust\" and \"Scale\".\n",
        "from sklearn.preprocessing import RobustScaler\n",
        "transformer = RobustScaler().fit(X)\n",
        "X = transformer.transform(X)\n",
        "X = pd.DataFrame(X, columns = cols, index = index)"
      ],
      "metadata": {
        "trusted": true,
        "id": "J9Ik4hu8D9ro"
      },
      "execution_count": null,
      "outputs": []
    },
    {
      "cell_type": "code",
      "source": [
        "X.head()"
      ],
      "metadata": {
        "trusted": true,
        "id": "7tRXtrrfD9rp"
      },
      "execution_count": null,
      "outputs": []
    },
    {
      "cell_type": "code",
      "source": [
        "X = pd.concat([X,categorical_df], axis = 1)"
      ],
      "metadata": {
        "trusted": true,
        "id": "WrvgCz1JD9rp"
      },
      "execution_count": null,
      "outputs": []
    },
    {
      "cell_type": "code",
      "source": [
        "X.head()"
      ],
      "metadata": {
        "trusted": true,
        "id": "_pgjqYOKD9rp"
      },
      "execution_count": null,
      "outputs": []
    },
    {
      "cell_type": "code",
      "source": [
        "y.head()"
      ],
      "metadata": {
        "trusted": true,
        "id": "FGXTYgHJD9rq"
      },
      "execution_count": null,
      "outputs": []
    },
    {
      "cell_type": "markdown",
      "source": [
        "# 5) Base Models"
      ],
      "metadata": {
        "id": "YdRsq4mLD9rr"
      }
    },
    {
      "cell_type": "code",
      "source": [
        "# Validation scores of all base models\n",
        "\n",
        "models = []\n",
        "models.append(('LR', LogisticRegression(random_state = 12345)))\n",
        "models.append(('KNN', KNeighborsClassifier()))\n",
        "models.append(('CART', DecisionTreeClassifier(random_state = 12345)))\n",
        "models.append(('RF', RandomForestClassifier(random_state = 12345)))\n",
        "models.append(('SVM', SVC(gamma='auto', random_state = 12345)))\n",
        "models.append(('XGB', GradientBoostingClassifier(random_state = 12345)))\n",
        "models.append((\"LightGBM\", LGBMClassifier(random_state = 12345)))\n",
        "\n",
        "# evaluate each model in turn\n",
        "results = []\n",
        "names = []"
      ],
      "metadata": {
        "trusted": true,
        "id": "6giK4lXrD9rr"
      },
      "execution_count": null,
      "outputs": []
    },
    {
      "cell_type": "code",
      "source": [
        "for name, model in models:\n",
        "    \n",
        "        kfold = KFold(n_splits = 10, random_state = 12345)\n",
        "        cv_results = cross_val_score(model, X, y, cv = 10, scoring= \"accuracy\")\n",
        "        results.append(cv_results)\n",
        "        names.append(name)\n",
        "        msg = \"%s: %f (%f)\" % (name, cv_results.mean(), cv_results.std())\n",
        "        print(msg)\n",
        "        \n",
        "# boxplot algorithm comparison\n",
        "fig = plt.figure(figsize=(15,10))\n",
        "fig.suptitle('Algorithm Comparison')\n",
        "ax = fig.add_subplot(111)\n",
        "plt.boxplot(results)\n",
        "ax.set_xticklabels(names)\n",
        "plt.show()"
      ],
      "metadata": {
        "trusted": true,
        "id": "j8tb0SDiD9rs"
      },
      "execution_count": null,
      "outputs": []
    },
    {
      "cell_type": "markdown",
      "source": [
        "# 6) Model Tuning"
      ],
      "metadata": {
        "id": "27bmG-yFD9rt"
      }
    },
    {
      "cell_type": "markdown",
      "source": [
        "### 1) Random Forests Tuning"
      ],
      "metadata": {
        "id": "MiPFcViCD9rt"
      }
    },
    {
      "cell_type": "code",
      "source": [
        "rf_params = {\"n_estimators\" :[100,200,500,1000], \n",
        "             \"max_features\": [3,5,7], \n",
        "             \"min_samples_split\": [2,5,10,30],\n",
        "            \"max_depth\": [3,5,8,None]}"
      ],
      "metadata": {
        "trusted": true,
        "id": "ROlw3f3_D9rt"
      },
      "execution_count": null,
      "outputs": []
    },
    {
      "cell_type": "code",
      "source": [
        "rf_model = RandomForestClassifier(random_state = 12345)"
      ],
      "metadata": {
        "trusted": true,
        "id": "wHHahlNID9rt"
      },
      "execution_count": null,
      "outputs": []
    },
    {
      "cell_type": "code",
      "source": [
        "gs_cv = GridSearchCV(rf_model, \n",
        "                    rf_params,\n",
        "                    cv = 10,\n",
        "                    n_jobs = -1,\n",
        "                    verbose = 2).fit(X, y)"
      ],
      "metadata": {
        "trusted": true,
        "id": "yYFNFJbPD9ru"
      },
      "execution_count": null,
      "outputs": []
    },
    {
      "cell_type": "code",
      "source": [
        "gs_cv.best_params_"
      ],
      "metadata": {
        "trusted": true,
        "id": "JXZF9Z4yD9ru"
      },
      "execution_count": null,
      "outputs": []
    },
    {
      "cell_type": "markdown",
      "source": [
        "### 1.1) Final Model Installation"
      ],
      "metadata": {
        "id": "i7SsOj9sD9ru"
      }
    },
    {
      "cell_type": "code",
      "source": [
        "rf_tuned = RandomForestClassifier(**gs_cv.best_params_)"
      ],
      "metadata": {
        "trusted": true,
        "id": "n7Net9AmD9rv"
      },
      "execution_count": null,
      "outputs": []
    },
    {
      "cell_type": "code",
      "source": [
        "rf_tuned = rf_tuned.fit(X,y)"
      ],
      "metadata": {
        "trusted": true,
        "id": "6ua4n6TJD9rv"
      },
      "execution_count": null,
      "outputs": []
    },
    {
      "cell_type": "code",
      "source": [
        "cross_val_score(rf_tuned, X, y, cv = 10).mean()"
      ],
      "metadata": {
        "trusted": true,
        "id": "OnD6J3moD9rv"
      },
      "execution_count": null,
      "outputs": []
    },
    {
      "cell_type": "code",
      "source": [
        "feature_imp = pd.Series(rf_tuned.feature_importances_,\n",
        "                        index=X.columns).sort_values(ascending=False)\n",
        "\n",
        "sns.barplot(x=feature_imp, y=feature_imp.index)\n",
        "plt.xlabel('Significance Score Of Variables')\n",
        "plt.ylabel('Variables')\n",
        "plt.title(\"Variable Severity Levels\")\n",
        "plt.show()"
      ],
      "metadata": {
        "trusted": true,
        "id": "0n73zIBmD9rw"
      },
      "execution_count": null,
      "outputs": []
    },
    {
      "cell_type": "markdown",
      "source": [
        "### 2) LightGBM Tuning"
      ],
      "metadata": {
        "id": "smVtgCHED9rw"
      }
    },
    {
      "cell_type": "code",
      "source": [
        "lgbm = LGBMClassifier(random_state = 12345)"
      ],
      "metadata": {
        "trusted": true,
        "id": "4wJkFDqFD9rw"
      },
      "execution_count": null,
      "outputs": []
    },
    {
      "cell_type": "code",
      "source": [
        "lgbm_params = {\"learning_rate\": [0.01, 0.03, 0.05, 0.1, 0.5],\n",
        "              \"n_estimators\": [500, 1000, 1500],\n",
        "              \"max_depth\":[3,5,8]}\n"
      ],
      "metadata": {
        "trusted": true,
        "id": "CfE_1vDcD9rw"
      },
      "execution_count": null,
      "outputs": []
    },
    {
      "cell_type": "code",
      "source": [
        "gs_cv = GridSearchCV(lgbm, \n",
        "                     lgbm_params, \n",
        "                     cv = 10, \n",
        "                     n_jobs = -1, \n",
        "                     verbose = 2).fit(X, y)"
      ],
      "metadata": {
        "trusted": true,
        "id": "kUA8xwg4D9rx"
      },
      "execution_count": null,
      "outputs": []
    },
    {
      "cell_type": "code",
      "source": [
        "gs_cv.best_params_"
      ],
      "metadata": {
        "trusted": true,
        "id": "06sYkev8D9rx"
      },
      "execution_count": null,
      "outputs": []
    },
    {
      "cell_type": "markdown",
      "source": [
        "### 2.1) Final Model Installation"
      ],
      "metadata": {
        "id": "S22ldEK4D9rx"
      }
    },
    {
      "cell_type": "code",
      "source": [
        "lgbm_tuned = LGBMClassifier(**gs_cv.best_params_).fit(X,y)"
      ],
      "metadata": {
        "trusted": true,
        "id": "4fF4MrcED9ry"
      },
      "execution_count": null,
      "outputs": []
    },
    {
      "cell_type": "code",
      "source": [
        "cross_val_score(lgbm_tuned, X, y, cv = 10).mean()"
      ],
      "metadata": {
        "trusted": true,
        "id": "zjC1xBxUD9ry"
      },
      "execution_count": null,
      "outputs": []
    },
    {
      "cell_type": "code",
      "source": [
        "feature_imp = pd.Series(lgbm_tuned.feature_importances_,\n",
        "                        index=X.columns).sort_values(ascending=False)\n",
        "\n",
        "sns.barplot(x=feature_imp, y=feature_imp.index)\n",
        "plt.xlabel('Significance Score Of Variables')\n",
        "plt.ylabel('Variables')\n",
        "plt.title(\"Variable Severity Levels\")\n",
        "plt.show()"
      ],
      "metadata": {
        "trusted": true,
        "id": "-RqGgYB6D9ry"
      },
      "execution_count": null,
      "outputs": []
    },
    {
      "cell_type": "markdown",
      "source": [
        "### 3) XGBoost Tuning"
      ],
      "metadata": {
        "id": "lHwVMccPD9ry"
      }
    },
    {
      "cell_type": "code",
      "source": [
        "xgb = GradientBoostingClassifier(random_state = 12345)"
      ],
      "metadata": {
        "trusted": true,
        "id": "glsTqhW4D9rz"
      },
      "execution_count": null,
      "outputs": []
    },
    {
      "cell_type": "code",
      "source": [
        "xgb_params = {\n",
        "    \"learning_rate\": [0.01, 0.1, 0.2, 1],\n",
        "    \"min_samples_split\": np.linspace(0.1, 0.5, 10),\n",
        "    \"max_depth\":[3,5,8],\n",
        "    \"subsample\":[0.5, 0.9, 1.0],\n",
        "    \"n_estimators\": [100,1000]}"
      ],
      "metadata": {
        "trusted": true,
        "id": "q_B9b--BD9rz"
      },
      "execution_count": null,
      "outputs": []
    },
    {
      "cell_type": "code",
      "source": [
        "xgb_cv_model  = GridSearchCV(xgb,xgb_params, cv = 10, n_jobs = -1, verbose = 2).fit(X, y)"
      ],
      "metadata": {
        "trusted": true,
        "id": "8YNGd6tZD9rz"
      },
      "execution_count": null,
      "outputs": []
    },
    {
      "cell_type": "code",
      "source": [
        "xgb_cv_model.best_params_"
      ],
      "metadata": {
        "trusted": true,
        "id": "FkPj2siVD9r0"
      },
      "execution_count": null,
      "outputs": []
    },
    {
      "cell_type": "markdown",
      "source": [
        "### 3.1) Final Model Installation"
      ],
      "metadata": {
        "id": "trA0H-VBD9r0"
      }
    },
    {
      "cell_type": "code",
      "source": [
        "xgb_tuned = GradientBoostingClassifier(**xgb_cv_model.best_params_).fit(X,y)"
      ],
      "metadata": {
        "trusted": true,
        "id": "ubfHcyXTD9r0"
      },
      "execution_count": null,
      "outputs": []
    },
    {
      "cell_type": "code",
      "source": [
        "cross_val_score(xgb_tuned, X, y, cv = 10).mean()"
      ],
      "metadata": {
        "trusted": true,
        "id": "Rngxxw2iD9r0"
      },
      "execution_count": null,
      "outputs": []
    },
    {
      "cell_type": "code",
      "source": [
        "feature_imp = pd.Series(xgb_tuned.feature_importances_,\n",
        "                        index=X.columns).sort_values(ascending=False)\n",
        "\n",
        "sns.barplot(x=feature_imp, y=feature_imp.index)\n",
        "plt.xlabel('Significance Score Of Variables')\n",
        "plt.ylabel('Variables')\n",
        "plt.title(\"Variable Severity Levels\")\n",
        "plt.show()"
      ],
      "metadata": {
        "trusted": true,
        "id": "KvhGM7Q6D9r1"
      },
      "execution_count": null,
      "outputs": []
    },
    {
      "cell_type": "markdown",
      "source": [
        "# 7) Comparison of Final Models"
      ],
      "metadata": {
        "id": "t-NbZmjnD9r1"
      }
    },
    {
      "cell_type": "code",
      "source": [
        "models = []\n",
        "\n",
        "models.append(('RF', RandomForestClassifier(random_state = 12345, max_depth = 8, max_features = 7, min_samples_split = 2, n_estimators = 500)))\n",
        "models.append(('XGB', GradientBoostingClassifier(random_state = 12345, learning_rate = 0.1, max_depth = 5, min_samples_split = 0.1, n_estimators = 100, subsample = 1.0)))\n",
        "models.append((\"LightGBM\", LGBMClassifier(random_state = 12345, learning_rate = 0.01,  max_depth = 3, n_estimators = 1000)))\n",
        "\n",
        "# evaluate each model in turn\n",
        "results = []\n",
        "names = []"
      ],
      "metadata": {
        "trusted": true,
        "id": "K5j2Jgx0D9r1"
      },
      "execution_count": null,
      "outputs": []
    },
    {
      "cell_type": "code",
      "source": [
        "for name, model in models:\n",
        "    \n",
        "        kfold = KFold(n_splits = 10, random_state = 12345)\n",
        "        cv_results = cross_val_score(model, X, y, cv = 10, scoring= \"accuracy\")\n",
        "        results.append(cv_results)\n",
        "        names.append(name)\n",
        "        msg = \"%s: %f (%f)\" % (name, cv_results.mean(), cv_results.std())\n",
        "        print(msg)\n",
        "        \n",
        "# boxplot algorithm comparison\n",
        "fig = plt.figure(figsize=(15,10))\n",
        "fig.suptitle('Algorithm Comparison')\n",
        "ax = fig.add_subplot(111)\n",
        "plt.boxplot(results)\n",
        "ax.set_xticklabels(names)\n",
        "plt.show()"
      ],
      "metadata": {
        "trusted": true,
        "id": "zH5oLg2hD9r2"
      },
      "execution_count": null,
      "outputs": []
    },
    {
      "cell_type": "markdown",
      "source": [
        "# 8) Reporting\n",
        "\n",
        "The aim of this study was to create classification models for the diabetes data set and to predict whether a person is sick by establishing models and to obtain maximum validation scores in the established models. The work done is as follows:\n",
        "\n",
        "1) Diabetes Data Set read.\n",
        "\n",
        "2) With Exploratory Data Analysis; The data set's structural data were checked.\n",
        "The types of variables in the dataset were examined. Size information of the dataset was accessed. The 0 values in the data set are missing values. Primarily these 0 values were replaced with NaN values. Descriptive statistics of the data set were examined.\n",
        "\n",
        "3) Data Preprocessing section;\n",
        "df for: The NaN values missing observations were filled with the median values of whether each variable was sick or not. The outliers were determined by LOF and dropped. The X variables were standardized with the rubost method..\n",
        "\n",
        "4) During Model Building;\n",
        "Logistic Regression, KNN, SVM, CART, Random Forests, XGBoost, LightGBM like using machine learning models Cross Validation Score were calculated. Later Random Forests, XGBoost, LightGBM hyperparameter optimizations optimized to increase Cross Validation value.\n",
        "\n",
        "5) Result;\n",
        "The model created as a result of XGBoost hyperparameter optimization became the model with the lowest Cross Validation Score value. (0.90)"
      ],
      "metadata": {
        "id": "1o1XWLE8D9r2"
      }
    }
  ]
}